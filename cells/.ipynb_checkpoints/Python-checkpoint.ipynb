{
 "cells": [
  {
   "cell_type": "markdown",
   "metadata": {},
   "source": [
    "# Python\n",
    "\n",
    "## Anaconda\n",
    "\n",
    "[Anaconda contains many tools altogether](https://anaconda.org/anaconda)\n",
    "\n",
    "## Basics of Python\n",
    "\n",
    "[Python tutorial](https://www.programiz.com/python-programming)\n",
    "\n",
    "## Take notes with Python (Jupyter notebook)\n",
    "\n",
    "[(http://jupyter.org/)\n"
   ]
  }
 ],
 "metadata": {
  "kernelspec": {
   "display_name": "Python 2",
   "language": "python",
   "name": "python2"
  },
  "language_info": {
   "codemirror_mode": {
    "name": "ipython",
    "version": 2
   },
   "file_extension": ".py",
   "mimetype": "text/x-python",
   "name": "python",
   "nbconvert_exporter": "python",
   "pygments_lexer": "ipython2",
   "version": "2.7.13"
  }
 },
 "nbformat": 4,
 "nbformat_minor": 2
}
