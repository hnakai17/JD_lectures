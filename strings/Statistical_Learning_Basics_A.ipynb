{
 "cells": [
  {
   "cell_type": "markdown",
   "metadata": {
    "deletable": true,
    "editable": true
   },
   "source": [
    "# Statistical Learning Basics A 機械学習基礎 A"
   ]
  },
  {
   "cell_type": "markdown",
   "metadata": {
    "deletable": true,
    "editable": true
   },
   "source": [
    "## Introduction 前書き\n",
    "\n",
    "Before we start this module, we check the role of this module in the the Joint Degree (JD) course .\n",
    "\n",
    "このモジュールを始める前に、ジョイントディグリー(JD)専攻におけるこのモジュールの役割を確認する。\n",
    "\n",
    "Read [Data science in JD course](../cells/Data_science_in_JD.ipynb).\n",
    "\n",
    "[JD専攻におけるデータサイエンス](../cells/Data_science_in_JD.ipynb)を読め。"
   ]
  },
  {
   "cell_type": "markdown",
   "metadata": {
    "deletable": true,
    "editable": true
   },
   "source": [
    "## Introduction 2 前書き2\n",
    "\n",
    "Read [Statistical analysis vs. machine learning](../cells/Statistical_Analysis_vs_Machine_Learning.ipynb).\n",
    "\n",
    "[統計解析 vs. 機械学習](../cells/Statistical_Analysis_vs_Machine_Learning.ipynb)を読め。"
   ]
  },
  {
   "cell_type": "markdown",
   "metadata": {},
   "source": [
    "## Reference book 参考書\n",
    "\n",
    "[English version](https://web.stanford.edu/~hastie/ElemStatLearn/)\n",
    "\n",
    "[日本語版](http://www.kyoritsu-pub.co.jp/bookdetail/9784320123625)"
   ]
  },
  {
   "cell_type": "markdown",
   "metadata": {},
   "source": [
    "## What is Learning 学習とは\n",
    "\n",
    "Read [Learning](../cells/Learning.ipynb).\n",
    "\n",
    "[学習](../cells/Learning.ipynb)を読め。\n",
    "\n"
   ]
  },
  {
   "cell_type": "markdown",
   "metadata": {},
   "source": [
    "## Examples of Learning 学習の例\n",
    "\n",
    "There are many learning methods. \n",
    "Before studying them specifically, we go over some examples to grab the concepts of learnig.\n",
    "\n",
    "学習の手法はたくさんある。\n",
    "手法を個別に勉強する前に、学習の概念を掴むために、いくつかの例を取り上げる。\n",
    "\n",
    "Read [Examples_of_Learning](../cells/Examples_of_Learning.ipynb)\n",
    "\n",
    "[学習の例](../cells/Examples_of_Learning.ipynb)を読め。\n",
    "\n",
    "### Assignment 課題\n",
    "\n",
    "There are four examples of learning in Chapter 1 of the refecence book.\n",
    "\n",
    "Describe their tasks. Pay attention to their joint distribution space."
   ]
  },
  {
   "cell_type": "markdown",
   "metadata": {
    "collapsed": true,
    "deletable": true,
    "editable": true
   },
   "source": [
    "## Supervised Learning 教師あり学習\n",
    "\n",
    "Two prediction models.\n",
    "\n",
    "+ Linear fitting method : Tight restriction, parameteric, stable result\n",
    "+ k-Nearest neighbor method : Loose restriction, non-parameteric, variable results depending on a parameter\n",
    "\n",
    "See [Parametric vs. Non-parametric](../cells/Parametric_vs_Nonparametric.ipynb)\n",
    "\n",
    "### Linear Models and Least Squares\n",
    "\n",
    "### Nearest Neighbors\n",
    "\n",
    "### Evaluation\n"
   ]
  },
  {
   "cell_type": "markdown",
   "metadata": {},
   "source": [
    "## 回帰のための線形手法"
   ]
  },
  {
   "cell_type": "markdown",
   "metadata": {},
   "source": [
    "## 分類のための線形手法"
   ]
  },
  {
   "cell_type": "markdown",
   "metadata": {},
   "source": [
    "## 基底展開と正則化"
   ]
  },
  {
   "cell_type": "markdown",
   "metadata": {},
   "source": [
    "## カーネル平滑化法"
   ]
  }
 ],
 "metadata": {
  "kernelspec": {
   "display_name": "Python 2",
   "language": "python",
   "name": "python2"
  },
  "language_info": {
   "codemirror_mode": {
    "name": "ipython",
    "version": 2
   },
   "file_extension": ".py",
   "mimetype": "text/x-python",
   "name": "python",
   "nbconvert_exporter": "python",
   "pygments_lexer": "ipython2",
   "version": "2.7.9"
  }
 },
 "nbformat": 4,
 "nbformat_minor": 2
}
