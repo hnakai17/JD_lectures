{
 "cells": [
  {
   "cell_type": "markdown",
   "metadata": {},
   "source": [
    "## 3.1 Exercises 1-0\n",
    "The degrees of freedom of the four elements of the matrix M is originally 4, but in this case, the degree of freedom is 2 because they are constrained by the two expressions.\n",
    "\n",
    "## 3.1 Exercises 1-1\n",
    "Because of two expression as follow, the freedom of degree of the elements of M  is two.\n",
    "\n",
    "$$\n",
    "\\begin{pmatrix}a, b\\\\ c, d \\end{pmatrix} \\begin{pmatrix}p \\\\q \\end{pmatrix} = \\begin{pmatrix}p \\\\q \\end{pmatrix}\\\\\n",
    "ap + bq = p\\\\\n",
    "cp + dq = q\\\\\n",
    "b=\\frac{p-ap}{q}\\\\\n",
    "d=\\frac{q-cp}{q}\n",
    "$$\n",
    "\n",
    "## 3.1 Exercises 1-2\n",
    "When set ${\\bf a} =\\begin{pmatrix}2 \\\\3 \\end{pmatrix}$, this case is expressed as follow\n",
    "\n",
    "$$\n",
    "{\\bf M}{\\bf a} = 2{\\bf a}\\\\\n",
    "{\\bf M}(2a)=2{\\bf M}{\\bf a}=4{\\bf a}=\\begin{pmatrix}8 \\\\12 \\end{pmatrix}\\\\\n",
    "$$\n",
    "\n",
    "## 3.1 Exercises 1-3\n",
    "When ${\\bf a}$ satisfying the following expression does not exist, M satisfy the condition oof this question.\n",
    "\n",
    "It is expressed mathematically as follow:\n",
    "$$\n",
    "rank{\\bf M} ≠ rank[{\\bf M} {\\bf a}]\n",
    "$$"
   ]
  },
  {
   "cell_type": "code",
   "execution_count": 11,
   "metadata": {
    "collapsed": false
   },
   "outputs": [
    {
     "data": {
      "text/html": [
       "<table>\n",
       "<tbody>\n",
       "\t<tr><td> 1.000000    </td><td>-5.736877e-18</td></tr>\n",
       "\t<tr><td>-1.732051    </td><td> 2.000000e+00</td></tr>\n",
       "</tbody>\n",
       "</table>\n"
      ],
      "text/latex": [
       "\\begin{tabular}{ll}\n",
       "\t  1.000000     & -5.736877e-18\\\\\n",
       "\t -1.732051     &  2.000000e+00\\\\\n",
       "\\end{tabular}\n"
      ],
      "text/markdown": [
       "\n",
       "|  1.000000     | -5.736877e-18 | \n",
       "| -1.732051     |  2.000000e+00 | \n",
       "\n",
       "\n"
      ],
      "text/plain": [
       "     [,1]      [,2]         \n",
       "[1,]  1.000000 -5.736877e-18\n",
       "[2,] -1.732051  2.000000e+00"
      ]
     },
     "metadata": {},
     "output_type": "display_data"
    }
   ],
   "source": [
    "## 3.1 Exercises 2-1\n",
    "theta1 <- pi/3\n",
    "theta2 <- pi/2\n",
    "V <- matrix(c(cos(theta1),sin(theta1),cos(theta2),sin(theta2)),2,2)\n",
    "lambda1 <- 1\n",
    "lambda2 <- 2\n",
    "M <- V %*% diag(c(lambda1,lambda2)) %*% solve(V)\n",
    "M"
   ]
  },
  {
   "cell_type": "code",
   "execution_count": 23,
   "metadata": {
    "collapsed": false
   },
   "outputs": [
    {
     "data": {
      "text/html": [
       "<ol class=list-inline>\n",
       "\t<li>2.23606797749979</li>\n",
       "\t<li>4.47213595499958</li>\n",
       "</ol>\n"
      ],
      "text/latex": [
       "\\begin{enumerate*}\n",
       "\\item 2.23606797749979\n",
       "\\item 4.47213595499958\n",
       "\\end{enumerate*}\n"
      ],
      "text/markdown": [
       "1. 2.23606797749979\n",
       "2. 4.47213595499958\n",
       "\n",
       "\n"
      ],
      "text/plain": [
       "[1] 2.236068 4.472136"
      ]
     },
     "metadata": {},
     "output_type": "display_data"
    },
    {
     "data": {
      "text/html": [
       "<table>\n",
       "<tbody>\n",
       "\t<tr><td>2.236068</td></tr>\n",
       "\t<tr><td>4.472136</td></tr>\n",
       "</tbody>\n",
       "</table>\n"
      ],
      "text/latex": [
       "\\begin{tabular}{l}\n",
       "\t 2.236068\\\\\n",
       "\t 4.472136\\\\\n",
       "\\end{tabular}\n"
      ],
      "text/markdown": [
       "\n",
       "| 2.236068 | \n",
       "| 4.472136 | \n",
       "\n",
       "\n"
      ],
      "text/plain": [
       "     [,1]    \n",
       "[1,] 2.236068\n",
       "[2,] 4.472136"
      ]
     },
     "metadata": {},
     "output_type": "display_data"
    }
   ],
   "source": [
    "## 3.1 Exercises 2-2\n",
    "M <- matrix(c(1,2,2,4),2,2)\n",
    "V <- eigen(M)$vectors\n",
    "v1 <- V[,1]\n",
    "v1*5\n",
    "M %*% v1"
   ]
  },
  {
   "cell_type": "code",
   "execution_count": 24,
   "metadata": {
    "collapsed": false
   },
   "outputs": [
    {
     "data": {
      "text/html": [
       "<table>\n",
       "<tbody>\n",
       "\t<tr><td>2</td></tr>\n",
       "\t<tr><td>4</td></tr>\n",
       "</tbody>\n",
       "</table>\n"
      ],
      "text/latex": [
       "\\begin{tabular}{l}\n",
       "\t 2\\\\\n",
       "\t 4\\\\\n",
       "\\end{tabular}\n"
      ],
      "text/markdown": [
       "\n",
       "| 2 | \n",
       "| 4 | \n",
       "\n",
       "\n"
      ],
      "text/plain": [
       "     [,1]\n",
       "[1,] 2   \n",
       "[2,] 4   "
      ]
     },
     "metadata": {},
     "output_type": "display_data"
    }
   ],
   "source": [
    "## 3.1 Exercises 2-3\n",
    "x <- c(0,1)\n",
    "M %*% x "
   ]
  },
  {
   "cell_type": "code",
   "execution_count": 25,
   "metadata": {
    "collapsed": false
   },
   "outputs": [
    {
     "ename": "ERROR",
     "evalue": "Error in solve.default(M): Lapack routine dgesv: システムは正確に特異です: U[2,2] = 0 \n",
     "output_type": "error",
     "traceback": [
      "Error in solve.default(M): Lapack routine dgesv: システムは正確に特異です: U[2,2] = 0 \nTraceback:\n",
      "1. solve(M)",
      "2. solve.default(M)"
     ]
    }
   ],
   "source": [
    "## 3.1 Exercises 2-4\n",
    "#Calculate Inverse matrix\n",
    "solve(M) #Error"
   ]
  },
  {
   "cell_type": "markdown",
   "metadata": {},
   "source": [
    "## 3.1 Exercises 2-5\n",
    "Since there are many vectorss transferred to v by multipling M, original vectoru can not be specified from v."
   ]
  },
  {
   "cell_type": "code",
   "execution_count": 29,
   "metadata": {
    "collapsed": false
   },
   "outputs": [
    {
     "data": {
      "text/html": [
       "<table>\n",
       "<tbody>\n",
       "\t<tr><td>1</td><td>2</td></tr>\n",
       "\t<tr><td>3</td><td>4</td></tr>\n",
       "</tbody>\n",
       "</table>\n"
      ],
      "text/latex": [
       "\\begin{tabular}{ll}\n",
       "\t 1 & 2\\\\\n",
       "\t 3 & 4\\\\\n",
       "\\end{tabular}\n"
      ],
      "text/markdown": [
       "\n",
       "| 1 | 2 | \n",
       "| 3 | 4 | \n",
       "\n",
       "\n"
      ],
      "text/plain": [
       "     [,1] [,2]\n",
       "[1,] 1    2   \n",
       "[2,] 3    4   "
      ]
     },
     "metadata": {},
     "output_type": "display_data"
    },
    {
     "data": {
      "text/plain": [
       "eigen() decomposition\n",
       "$values\n",
       "[1]  5.3722813 -0.3722813\n",
       "\n",
       "$vectors\n",
       "           [,1]       [,2]\n",
       "[1,] -0.4159736 -0.8245648\n",
       "[2,] -0.9093767  0.5657675\n"
      ]
     },
     "metadata": {},
     "output_type": "display_data"
    }
   ],
   "source": [
    "## 3.1 Exercises 2-6\n",
    "M <- matrix(c(1,3,2,4),2,2)\n",
    "M\n",
    "eigen(M)"
   ]
  },
  {
   "cell_type": "markdown",
   "metadata": {},
   "source": [
    "The eigen value $\\lambda$ satisfy\n",
    "\n",
    "$$\n",
    "(a-\\lambda)(d-\\lambda)-bc=0\\\\\n",
    "\\lambda= ad \\pm {\\sqrt {a^2d^2 - (ad-bc)}}\n",
    "$$"
   ]
  },
  {
   "cell_type": "markdown",
   "metadata": {},
   "source": [
    "## 3.1 Exercises 2-6\n",
    "$$\n",
    "a=1\\\\\n",
    "b=2\\\\\n",
    "d^2 - (d-2c)<0\\\\\n",
    "$$\n",
    "\n",
    "Then, for example that eigen values are complex numbers, d=1 and c=-3."
   ]
  },
  {
   "cell_type": "code",
   "execution_count": 32,
   "metadata": {
    "collapsed": false,
    "scrolled": true
   },
   "outputs": [
    {
     "data": {
      "text/html": [
       "<table>\n",
       "<tbody>\n",
       "\t<tr><td> 1</td><td>2 </td></tr>\n",
       "\t<tr><td>-3</td><td>1 </td></tr>\n",
       "</tbody>\n",
       "</table>\n"
      ],
      "text/latex": [
       "\\begin{tabular}{ll}\n",
       "\t  1 & 2 \\\\\n",
       "\t -3 & 1 \\\\\n",
       "\\end{tabular}\n"
      ],
      "text/markdown": [
       "\n",
       "|  1 | 2  | \n",
       "| -3 | 1  | \n",
       "\n",
       "\n"
      ],
      "text/plain": [
       "     [,1] [,2]\n",
       "[1,]  1   2   \n",
       "[2,] -3   1   "
      ]
     },
     "metadata": {},
     "output_type": "display_data"
    },
    {
     "data": {
      "text/plain": [
       "eigen() decomposition\n",
       "$values\n",
       "[1] 1+2.44949i 1-2.44949i\n",
       "\n",
       "$vectors\n",
       "                     [,1]                 [,2]\n",
       "[1,] 0.0000000-0.6324555i 0.0000000+0.6324555i\n",
       "[2,] 0.7745967+0.0000000i 0.7745967+0.0000000i\n"
      ]
     },
     "metadata": {},
     "output_type": "display_data"
    }
   ],
   "source": [
    "M <- matrix(c(1,-3,2,1),2,2)\n",
    "M\n",
    "eigen(M)"
   ]
  },
  {
   "cell_type": "code",
   "execution_count": 49,
   "metadata": {
    "collapsed": false
   },
   "outputs": [
    {
     "data": {
      "text/plain": [
       "eigen() decomposition\n",
       "$values\n",
       "[1]  5.3722813 -0.3722813\n",
       "\n",
       "$vectors\n",
       "           [,1]       [,2]\n",
       "[1,] -0.4159736 -0.8245648\n",
       "[2,] -0.9093767  0.5657675\n"
      ]
     },
     "metadata": {},
     "output_type": "display_data"
    },
    {
     "data": {
      "text/plain": [
       "eigen() decomposition\n",
       "$values\n",
       "[1] 1 0\n",
       "\n",
       "$vectors\n",
       "     [,1]       [,2]\n",
       "[1,]    1 -0.8944272\n",
       "[2,]    0  0.4472136\n"
      ]
     },
     "metadata": {},
     "output_type": "display_data"
    },
    {
     "data": {
      "text/plain": [
       "eigen() decomposition\n",
       "$values\n",
       "[1] 1+2.44949i 1-2.44949i\n",
       "\n",
       "$vectors\n",
       "                     [,1]                 [,2]\n",
       "[1,] 0.0000000-0.6324555i 0.0000000+0.6324555i\n",
       "[2,] 0.7745967+0.0000000i 0.7745967+0.0000000i\n"
      ]
     },
     "metadata": {},
     "output_type": "display_data"
    }
   ],
   "source": [
    "## 3.1 Exercises 2-7\n",
    "M1  <-  matrix(c(1,3,2,4),2,2)# the matrix with two real non-zero eigen value\n",
    "M2 <- matrix(c(1,0,2,0),2,2) # the matrix with one zero eigen value\n",
    "M3 <- matrix(c(1,-3,2,1),2,2) # the matrix with two complex eigen value\n",
    "eigen(M1)\n",
    "eigen(M2)\n",
    "eigen(M3)"
   ]
  },
  {
   "cell_type": "code",
   "execution_count": 51,
   "metadata": {
    "collapsed": false
   },
   "outputs": [],
   "source": [
    "t <- matrix(c(1,1),1,2)\n",
    "n <- 5\n",
    "result1 <- t\n",
    "result2 <- t\n",
    "result3 <- t\n",
    "for(i in 1:n){\n",
    "    new1 <- M1 %*% t(result1[i,,drop=F])\n",
    "    new2 <- M2 %*% t(result2[i,,drop=F])\n",
    "    new3 <- M3 %*% t(result3[i,,drop=F])\n",
    "    result1 <- rbind(result1,t(new1))\n",
    "    result2 <- rbind(result2,t(new2))\n",
    "    result3 <- rbind(result3,t(new3))\n",
    "}"
   ]
  },
  {
   "cell_type": "code",
   "execution_count": 52,
   "metadata": {
    "collapsed": false
   },
   "outputs": [
    {
     "data": {
      "text/html": [
       "<table>\n",
       "<tbody>\n",
       "\t<tr><td>   1</td><td>   1</td></tr>\n",
       "\t<tr><td>   3</td><td>   7</td></tr>\n",
       "\t<tr><td>  17</td><td>  37</td></tr>\n",
       "\t<tr><td>  91</td><td> 199</td></tr>\n",
       "\t<tr><td> 489</td><td>1069</td></tr>\n",
       "\t<tr><td>2627</td><td>5743</td></tr>\n",
       "</tbody>\n",
       "</table>\n"
      ],
      "text/latex": [
       "\\begin{tabular}{ll}\n",
       "\t    1 &    1\\\\\n",
       "\t    3 &    7\\\\\n",
       "\t   17 &   37\\\\\n",
       "\t   91 &  199\\\\\n",
       "\t  489 & 1069\\\\\n",
       "\t 2627 & 5743\\\\\n",
       "\\end{tabular}\n"
      ],
      "text/markdown": [
       "\n",
       "|    1 |    1 | \n",
       "|    3 |    7 | \n",
       "|   17 |   37 | \n",
       "|   91 |  199 | \n",
       "|  489 | 1069 | \n",
       "| 2627 | 5743 | \n",
       "\n",
       "\n"
      ],
      "text/plain": [
       "     [,1] [,2]\n",
       "[1,]    1    1\n",
       "[2,]    3    7\n",
       "[3,]   17   37\n",
       "[4,]   91  199\n",
       "[5,]  489 1069\n",
       "[6,] 2627 5743"
      ]
     },
     "metadata": {},
     "output_type": "display_data"
    },
    {
     "data": {
      "text/html": [
       "<table>\n",
       "<tbody>\n",
       "\t<tr><td>1</td><td>1</td></tr>\n",
       "\t<tr><td>3</td><td>0</td></tr>\n",
       "\t<tr><td>3</td><td>0</td></tr>\n",
       "\t<tr><td>3</td><td>0</td></tr>\n",
       "\t<tr><td>3</td><td>0</td></tr>\n",
       "\t<tr><td>3</td><td>0</td></tr>\n",
       "</tbody>\n",
       "</table>\n"
      ],
      "text/latex": [
       "\\begin{tabular}{ll}\n",
       "\t 1 & 1\\\\\n",
       "\t 3 & 0\\\\\n",
       "\t 3 & 0\\\\\n",
       "\t 3 & 0\\\\\n",
       "\t 3 & 0\\\\\n",
       "\t 3 & 0\\\\\n",
       "\\end{tabular}\n"
      ],
      "text/markdown": [
       "\n",
       "| 1 | 1 | \n",
       "| 3 | 0 | \n",
       "| 3 | 0 | \n",
       "| 3 | 0 | \n",
       "| 3 | 0 | \n",
       "| 3 | 0 | \n",
       "\n",
       "\n"
      ],
      "text/plain": [
       "     [,1] [,2]\n",
       "[1,] 1    1   \n",
       "[2,] 3    0   \n",
       "[3,] 3    0   \n",
       "[4,] 3    0   \n",
       "[5,] 3    0   \n",
       "[6,] 3    0   "
      ]
     },
     "metadata": {},
     "output_type": "display_data"
    },
    {
     "data": {
      "text/html": [
       "<table>\n",
       "<tbody>\n",
       "\t<tr><td>  1</td><td>  1</td></tr>\n",
       "\t<tr><td>  3</td><td> -2</td></tr>\n",
       "\t<tr><td> -1</td><td>-11</td></tr>\n",
       "\t<tr><td>-23</td><td> -8</td></tr>\n",
       "\t<tr><td>-39</td><td> 61</td></tr>\n",
       "\t<tr><td> 83</td><td>178</td></tr>\n",
       "</tbody>\n",
       "</table>\n"
      ],
      "text/latex": [
       "\\begin{tabular}{ll}\n",
       "\t   1 &   1\\\\\n",
       "\t   3 &  -2\\\\\n",
       "\t  -1 & -11\\\\\n",
       "\t -23 &  -8\\\\\n",
       "\t -39 &  61\\\\\n",
       "\t  83 & 178\\\\\n",
       "\\end{tabular}\n"
      ],
      "text/markdown": [
       "\n",
       "|   1 |   1 | \n",
       "|   3 |  -2 | \n",
       "|  -1 | -11 | \n",
       "| -23 |  -8 | \n",
       "| -39 |  61 | \n",
       "|  83 | 178 | \n",
       "\n",
       "\n"
      ],
      "text/plain": [
       "     [,1] [,2]\n",
       "[1,]   1    1 \n",
       "[2,]   3   -2 \n",
       "[3,]  -1  -11 \n",
       "[4,] -23   -8 \n",
       "[5,] -39   61 \n",
       "[6,]  83  178 "
      ]
     },
     "metadata": {},
     "output_type": "display_data"
    },
    {
     "data": {
      "image/png": "[encoded data removed]",
      "text/plain": [
       "plot without title"
      ]
     },
     "metadata": {},
     "output_type": "display_data"
    },
    {
     "data": {
      "image/png": "[encoded data removed]",
      "text/plain": [
       "plot without title"
      ]
     },
     "metadata": {},
     "output_type": "display_data"
    },
    {
     "data": {
      "image/png": "[encoded data removed]",
      "text/plain": [
       "plot without title"
      ]
     },
     "metadata": {},
     "output_type": "display_data"
    }
   ],
   "source": [
    "result1\n",
    "result2\n",
    "result3\n",
    "plot(result1[1:5,])\n",
    "plot(result2[1:5,])\n",
    "plot(result3[1:5,])"
   ]
  },
  {
   "cell_type": "code",
   "execution_count": null,
   "metadata": {
    "collapsed": true
   },
   "outputs": [],
   "source": []
  }
 ],
 "metadata": {
  "kernelspec": {
   "display_name": "R",
   "language": "R",
   "name": "ir"
  },
  "language_info": {
   "codemirror_mode": "r",
   "file_extension": ".r",
   "mimetype": "text/x-r-source",
   "name": "R",
   "pygments_lexer": "r",
   "version": "3.4.1"
  }
 },
 "nbformat": 4,
 "nbformat_minor": 2
}
