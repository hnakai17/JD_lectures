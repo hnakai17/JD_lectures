{
 "cells": [
  {
   "cell_type": "markdown",
   "metadata": {},
   "source": [
    "+ Re-read \"Properties of matrices\", then describe \"rank\", \"determinant\", \"trace\" and \"eigen values as you like, so that the description would be helpful for yourself a half year later. You can write in your mother tongue. In case the description is not in English or Japanese, do not anticipate feedback, though.\n",
    "\n",
    "\n",
    "+ Linear model, $y=ax + b$ can be considered as an affine transformation. Assume a transformation that moves a point $(x,0)$ to $(x,ax)$. Make a matrix that does the transformation. Then make a matrix that moves a point $(x,0)$ to $(x,ax+b)$. How about a matrix that moves $(x_1,x_2,0)$ to $(a_1x_1 + a_2x_2,b_1x_1+b_2x_2)$. Then a matrix that moves $(x_1,x_2,0)$ to $(a_1x_1+a_2x_2+c,b_1x_1+b_2x_2+d)$. "
   ]
  },
  {
   "cell_type": "markdown",
   "metadata": {},
   "source": [
    "+ rank\n",
    "the number of linearly independent vector\n",
    "\n",
    "the number of eigen value\n",
    "\n",
    "+ determinant\n",
    "\n",
    "In 2$\\times$2 matrix $\\begin{pmatrix}a&b\\\\c&d\\end{pmatrix}$, $\\det(A)=ad-bc$.\n",
    "\n",
    "Product of eigen values\n",
    "\n",
    "$\\det(A)=\\displaystyle\\prod_i\\lambda_i$\n",
    "\n",
    "+ trace\n",
    "\n",
    "The sum of diagonal elements\n",
    "\n",
    "+ eigen value\n",
    "\n",
    "Scalar values that satisfy the fomula,\n",
    "\n",
    "$A\\boldsymbol{x}=\\lambda \\boldsymbol{x}$"
   ]
  },
  {
   "cell_type": "markdown",
   "metadata": {},
   "source": [
    "The transformation matrix $A$ satisfies\n",
    "\n",
    "$A\\begin{pmatrix}x\\\\0\\end{pmatrix}=\\begin{pmatrix}x\\\\ax\\end{pmatrix}$.\n",
    "\n",
    "That is, $A=\\begin{pmatrix}1&w_1\\\\a&w_2\\end{pmatrix}$,$\\{w_1,w_2\\}\\in\\mathbb{R}$.\n",
    "\n",
    "Then, \n",
    "$A\\begin{pmatrix}x\\\\0\\end{pmatrix}=\\begin{pmatrix}x\\\\ax\\end{pmatrix}+\\begin{pmatrix}0\\\\b\\end{pmatrix}\\\\\\Rightarrow A\\begin{pmatrix}x\\\\0\\\\1\\end{pmatrix}=\\begin{pmatrix}x\\\\ax+b\\end{pmatrix}$.\n",
    "\n",
    "$A=\\begin{pmatrix}1&w_1&0\\\\a&w_2&b\\end{pmatrix}$.\n",
    "\n",
    "$B\\begin{pmatrix}x_1\\\\x_2\\\\0\\end{pmatrix}=\\begin{pmatrix}a_1x_1+a_2x_2\\\\b_1x_1+b_2x_2\\end{pmatrix}\\\\\\Rightarrow B=\\begin{pmatrix}a_1&a_2&w_1\\\\b_1&b_2&w_2\\end{pmatrix}$.\n",
    "\n",
    "\n",
    "\n",
    "$B\\begin{pmatrix}x_1\\\\x_2\\\\0\\\\1\\end{pmatrix}=\\begin{pmatrix}a_1x_1+a_2x_2+c\\\\b_1x_1+b_2x_2+d\\end{pmatrix}$.\n",
    "\n",
    "$B=\\begin{pmatrix}a_1&a_2&w_1&c\\\\a_2&a_2&w_2&d\\end{pmatrix}$."
   ]
  }
 ],
 "metadata": {
  "kernelspec": {
   "display_name": "Python 3",
   "language": "python",
   "name": "python3"
  },
  "language_info": {
   "codemirror_mode": {
    "name": "ipython",
    "version": 3
   },
   "file_extension": ".py",
   "mimetype": "text/x-python",
   "name": "python",
   "nbconvert_exporter": "python",
   "pygments_lexer": "ipython3",
   "version": "3.4.3"
  }
 },
 "nbformat": 4,
 "nbformat_minor": 2
}
