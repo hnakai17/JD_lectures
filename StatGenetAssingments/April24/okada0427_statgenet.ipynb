{
 "cells": [
  {
   "cell_type": "markdown",
   "metadata": {},
   "source": [
    "# トレース\n",
    "行列の対角成分の総和。正方行列に対してのみ定義される。\n",
    "\n",
    "積のtraceに関して、以下の定理が成り立つ。\n",
    "$$\n",
    "tr(\\bf A \\bf B)=tr(\\bf B' \\bf A')=tr(\\bf B \\bf A)=tr(\\bf A' \\bf B')\n",
    "$$\n",
    "\n",
    "# ランク\n",
    "行列Aのrankは、A の一次独立な列ベクトルまたは行ベクトルの最大本数として定義できる。\n",
    "また、$AA^{T}$の０でない固有値の数とrankは等しくなる。これは、$AA^{T}$はAの分散共分散行列になるため、\n",
    "主成分分析における分散を説明する主成分の数はrankに等しくなる。\n",
    "このようなことから、データ分析でのデータの行列のrankは、「実質的に意味のある独立したデータ列の数」と考えられる。"
   ]
  },
  {
   "cell_type": "markdown",
   "metadata": {},
   "source": [
    "# 行列式\n",
    "determinantは、正方行列に対して定義されるスカラー量である。\n",
    "正方行列Mを、\n",
    "$$\n",
    "M = \\begin{pmatrix} a,b\\\\c,d \\end{pmatrix}\n",
    "$$\n",
    "とおくと、\n",
    "$$\n",
    "M \\begin{pmatrix} 1 \\\\ 0 \\end{pmatrix} = \\begin{pmatrix} a \\\\ c \\end{pmatrix}\n",
    "$$\n",
    "\n",
    "$$\n",
    "M \\begin{pmatrix} 0 \\\\ 1 \\end{pmatrix} = \\begin{pmatrix} b \\\\ d \\end{pmatrix}\n",
    "$$\n",
    "\n",
    "より、これは、(1,0)を(a,c)へ、(0,1)を(b,d)へ移す行列となる。\n",
    "この時、行列式は(a,c)、(b,d)のベクトルが張る平行四辺形の面積になっている。\n",
    "したがって、行列式はＭによる線形変換の拡大率に相当していると考えられる。\n",
    "\n",
    "\n",
    "# 固有値\n",
    "行列Aにたいして、\n",
    "$$\n",
    "Ax=\\lambda x\n",
    "$$\n",
    "を満たす、xを固有ベクトル、$\\lambda$を固有値とよぶ。\n",
    "これは、行列Aによる線形変換を行っても向きの変わらないベクトルが固有ベクトルであり、その時のベクトルの大きさが固有値$\\lambda$倍になっていると言える。\n",
    "\n",
    "# トレース、ランク、行列式、固有値の関係\n",
    "・n次正方行列において、行列式が０でなければ正則行列と呼ばれる。この時、すべての固有値は０でなく、行列のランクはnである。\n",
    "これは、線形変換が０でない拡大率を持つため、直線がゼロベクトルに圧縮されるようなことがない。そのため、固有ベクトルもゼロベクトルに移されることはないので、ゼロ固有値を持たないと言える。\n",
    "\n",
    "・トレースは固有値の総和に相当する"
   ]
  },
  {
   "cell_type": "markdown",
   "metadata": {
    "collapsed": true
   },
   "source": [
    "$$\n",
    "\\begin{pmatrix} 1,0\\\\a,0 \\end{pmatrix} \\begin{pmatrix} x \\\\ 0 \\end{pmatrix} = \\begin{pmatrix} x \\\\ ax \\end{pmatrix}\n",
    "$$"
   ]
  },
  {
   "cell_type": "markdown",
   "metadata": {},
   "source": [
    "$$\n",
    "\\begin{pmatrix} 1,0\\\\a,0 \\end{pmatrix} \\begin{pmatrix} x \\\\ 0 \\end{pmatrix} + \\begin{pmatrix} 0 \\\\ b \\end{pmatrix}= \\begin{pmatrix} x \\\\ ax+b \\end{pmatrix}\n",
    "$$"
   ]
  },
  {
   "cell_type": "markdown",
   "metadata": {},
   "source": [
    "$$\n",
    "\\begin{pmatrix} a1,a2,0 \\\\ b1,b2,0 \\\\ 0 , 0, 0 \\end{pmatrix} \\begin{pmatrix} x1 \\\\ x2 \\\\ 0\\end{pmatrix}= \\begin{pmatrix} a1x1 + a2x2 \\\\ b1x1+b2x2 \\\\0 \\end{pmatrix}\n",
    "$$"
   ]
  },
  {
   "cell_type": "markdown",
   "metadata": {},
   "source": [
    "  \n",
    "\n",
    "$$\n",
    "\\begin{pmatrix} a1,a2,0 \\\\ b1,b2,0 \\\\ 0 , 0, 0 \\end{pmatrix} \\begin{pmatrix} x1 \\\\ x2 \\\\ 0\\end{pmatrix} + \\begin{pmatrix} c \\\\ d\\\\0 \\end{pmatrix}= \\begin{pmatrix} a1x1 + a2x2 + c\\\\ b1x1+b2x2+d \\\\0 \\end{pmatrix}\n",
    "$$"
   ]
  },
  {
   "cell_type": "code",
   "execution_count": null,
   "metadata": {
    "collapsed": true
   },
   "outputs": [],
   "source": []
  }
 ],
 "metadata": {
  "kernelspec": {
   "display_name": "R",
   "language": "R",
   "name": "ir"
  },
  "language_info": {
   "codemirror_mode": "r",
   "file_extension": ".r",
   "mimetype": "text/x-r-source",
   "name": "R",
   "pygments_lexer": "r",
   "version": "3.4.1"
  }
 },
 "nbformat": 4,
 "nbformat_minor": 2
}
