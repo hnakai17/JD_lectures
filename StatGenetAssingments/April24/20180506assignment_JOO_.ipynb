{
 "cells": [
  {
   "cell_type": "markdown",
   "metadata": {},
   "source": [
    "＃rank\n",
    "\n",
    "行列の正則な部分行列で最大なもののサイズ、一次独立なベクトルの最大本数、行列の像空間の次元。階段行列に帰着させた時に0でない成分の残る行の数。\n"
   ]
  },
  {
   "cell_type": "markdown",
   "metadata": {},
   "source": [
    "#determinant\n",
    "\n",
    "行列式は正方行列のみに対して定義される。逆行列が存在するかどうかを確認する際に有用であり、行列式がゼロだと逆行列は存在しない。\n",
    "行列Aの行列式はAの行と列を入れ替えても同じである。\n",
    "\n",
    "行列式は\n",
    "$$\n",
    "\\det A=\\displaystyle\\sum_{\\sigma\\in S_n}\\mathrm{sgn}(\\sigma)\\prod_{i=1}^na_{i\\sigma(i)}\\\\ \n",
    "=\\displaystyle\\sum_{\\sigma\\in S_n}\\mathrm{sgn}(\\sigma)a_{1\\sigma(1)}a_{2\\sigma(2)}\\cdots a_{n\\sigma(n)}\n",
    "$$\n",
    "の式で定義され、単位行列Aの行列式はdetA=1となる。\n"
   ]
  },
  {
   "cell_type": "markdown",
   "metadata": {},
   "source": [
    "#trace\n",
    "\n",
    "トレースは正方行列に対してのみ定まるn×n行列の対角成分の和である。\n",
    "また、行列AのトレースはAの固有値の和になっている。"
   ]
  },
  {
   "cell_type": "markdown",
   "metadata": {},
   "source": [
    "#eigen values\n",
    "\n",
    "行列Aによって方向の変わらないベクトルがAの固有ベクトルであり、その固有ベクトルがAによって何倍されるか (λ倍ならλ) が固有値。\n",
    "式で表すと、行列Aとベクトルxと実数λの間に\n",
    "$$\n",
    "A\\overrightarrow{x}=\\lambda \\overrightarrow{x}\n",
    "$$\n",
    "が成立する時、xをAの固有ベクトル、λをAの固有値という。\n",
    "\n"
   ]
  },
  {
   "cell_type": "markdown",
   "metadata": {},
   "source": [
    "＃(x,0)を(X,ax)に移動する行列"
   ]
  },
  {
   "cell_type": "markdown",
   "metadata": {},
   "source": [
    "$$\n",
    "M = \\begin{pmatrix}1,2\\\\a,3\\end{pmatrix}\n",
    "$$"
   ]
  },
  {
   "cell_type": "markdown",
   "metadata": {},
   "source": [
    "＃(x,0)を(X,ax+b)に移動する行列"
   ]
  },
  {
   "cell_type": "markdown",
   "metadata": {},
   "source": [
    "$$\n",
    "M = \\begin{pmatrix}1,2,0\\\\a,3,b\\\\0,0,1\\end{pmatrix}\n",
    "$$"
   ]
  },
  {
   "cell_type": "markdown",
   "metadata": {},
   "source": [
    "＃(x1,x2,0)を(a1X1+a2X2,b1x1+b2x2)に移動する行列"
   ]
  },
  {
   "cell_type": "markdown",
   "metadata": {},
   "source": [
    "$$\n",
    "M = \\begin{pmatrix}a1,a2,e\\\\b1,b2,f\\end{pmatrix}\n",
    "$$"
   ]
  },
  {
   "cell_type": "markdown",
   "metadata": {},
   "source": [
    "＃(x1,x2,0)を(a1X1+a2X2+c,b1x1+b2x2+d)に移動する行列"
   ]
  },
  {
   "cell_type": "markdown",
   "metadata": {},
   "source": [
    "$$\n",
    "M = \\begin{pmatrix}a1,a2,e,c\\\\b1,b2,f,d\\end{pmatrix}\n",
    "$$"
   ]
  }
 ],
 "metadata": {
  "kernelspec": {
   "display_name": "R",
   "language": "R",
   "name": "ir"
  },
  "language_info": {
   "codemirror_mode": "r",
   "file_extension": ".r",
   "mimetype": "text/x-r-source",
   "name": "R",
   "pygments_lexer": "r",
   "version": "3.4.2"
  }
 },
 "nbformat": 4,
 "nbformat_minor": 2
}
