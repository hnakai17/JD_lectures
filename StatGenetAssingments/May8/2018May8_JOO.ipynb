{
 "cells": [
  {
   "cell_type": "markdown",
   "metadata": {},
   "source": [
    "# (i) by generating data matrix and making its covariance matirix"
   ]
  },
  {
   "cell_type": "code",
   "execution_count": 1,
   "metadata": {},
   "outputs": [
    {
     "data": {
      "text/html": [
       "<table>\n",
       "<thead><tr><th scope=col>a</th><th scope=col>b</th><th scope=col>c</th><th scope=col>d</th><th scope=col>e</th></tr></thead>\n",
       "<tbody>\n",
       "\t<tr><td>1 </td><td>2 </td><td> 3</td><td>10</td><td> 7</td></tr>\n",
       "\t<tr><td>2 </td><td>4 </td><td> 9</td><td>20</td><td>10</td></tr>\n",
       "\t<tr><td>3 </td><td>6 </td><td> 5</td><td>30</td><td> 9</td></tr>\n",
       "\t<tr><td>4 </td><td>8 </td><td> 6</td><td>40</td><td> 4</td></tr>\n",
       "\t<tr><td>5 </td><td>2 </td><td>10</td><td>50</td><td> 6</td></tr>\n",
       "\t<tr><td>6 </td><td>9 </td><td> 8</td><td>55</td><td>20</td></tr>\n",
       "</tbody>\n",
       "</table>\n"
      ],
      "text/latex": [
       "\\begin{tabular}{lllll}\n",
       " a & b & c & d & e\\\\\n",
       "\\hline\n",
       "\t 1  & 2  &  3 & 10 &  7\\\\\n",
       "\t 2  & 4  &  9 & 20 & 10\\\\\n",
       "\t 3  & 6  &  5 & 30 &  9\\\\\n",
       "\t 4  & 8  &  6 & 40 &  4\\\\\n",
       "\t 5  & 2  & 10 & 50 &  6\\\\\n",
       "\t 6  & 9  &  8 & 55 & 20\\\\\n",
       "\\end{tabular}\n"
      ],
      "text/markdown": [
       "\n",
       "a | b | c | d | e | \n",
       "|---|---|---|---|---|---|\n",
       "| 1  | 2  |  3 | 10 |  7 | \n",
       "| 2  | 4  |  9 | 20 | 10 | \n",
       "| 3  | 6  |  5 | 30 |  9 | \n",
       "| 4  | 8  |  6 | 40 |  4 | \n",
       "| 5  | 2  | 10 | 50 |  6 | \n",
       "| 6  | 9  |  8 | 55 | 20 | \n",
       "\n",
       "\n"
      ],
      "text/plain": [
       "     a b c  d  e \n",
       "[1,] 1 2  3 10  7\n",
       "[2,] 2 4  9 20 10\n",
       "[3,] 3 6  5 30  9\n",
       "[4,] 4 8  6 40  4\n",
       "[5,] 5 2 10 50  6\n",
       "[6,] 6 9  8 55 20"
      ]
     },
     "metadata": {},
     "output_type": "display_data"
    },
    {
     "data": {
      "text/plain": [
       "eigen() decomposition\n",
       "$values\n",
       "[1] 317.82229908  27.95228246   7.29775419   2.39235030   0.00198064\n",
       "\n",
       "$vectors\n",
       "            [,1]        [,2]         [,3]        [,4]          [,5]\n",
       "[1,] -0.10480002  0.01361067 -0.006744947  0.02800945  0.9939827377\n",
       "[2,] -0.09069600  0.22074609 -0.746576701 -0.62102223 -0.0001514834\n",
       "[3,] -0.08997085 -0.03725914  0.636315914 -0.76507086  0.0169010042\n",
       "[4,] -0.97722583 -0.14971193 -0.014939144  0.10748591 -0.1041134668\n",
       "[5,] -0.13313945  0.96295587  0.193537116  0.12907450 -0.0295471881\n"
      ]
     },
     "metadata": {},
     "output_type": "display_data"
    }
   ],
   "source": [
    "a <- c(1,2,3,4,5,6)\n",
    "b <- c(2,4,6,8,2,9)\n",
    "c <- c(3,9,5,6,10,8)\n",
    "d <- c(10,20,30,40,50,55)\n",
    "e <- c(7,10,9,4,6,20)\n",
    "\n",
    "#データ行列を作成\n",
    "M <- cbind(a,b,c,d,e)\n",
    "M\n",
    "\n",
    "#データ行列の共分散行列を作成\n",
    "X <- cov(M)\n",
    "\n",
    "#共分散行列の固有値が正となることを確認\n",
    "eigen(X)"
   ]
  },
  {
   "cell_type": "markdown",
   "metadata": {},
   "source": [
    "# (ii) by generating a diagonal matrix whose diagonal elements >0 and sandwich it with rotation matrix and its inverse."
   ]
  },
  {
   "cell_type": "code",
   "execution_count": 2,
   "metadata": {},
   "outputs": [
    {
     "data": {
      "text/html": [
       "<table>\n",
       "<tbody>\n",
       "\t<tr><td>1</td><td>0</td><td>0</td></tr>\n",
       "\t<tr><td>0</td><td>2</td><td>0</td></tr>\n",
       "\t<tr><td>0</td><td>0</td><td>3</td></tr>\n",
       "</tbody>\n",
       "</table>\n"
      ],
      "text/latex": [
       "\\begin{tabular}{lll}\n",
       "\t 1 & 0 & 0\\\\\n",
       "\t 0 & 2 & 0\\\\\n",
       "\t 0 & 0 & 3\\\\\n",
       "\\end{tabular}\n"
      ],
      "text/markdown": [
       "\n",
       "| 1 | 0 | 0 | \n",
       "| 0 | 2 | 0 | \n",
       "| 0 | 0 | 3 | \n",
       "\n",
       "\n"
      ],
      "text/plain": [
       "     [,1] [,2] [,3]\n",
       "[1,] 1    0    0   \n",
       "[2,] 0    2    0   \n",
       "[3,] 0    0    3   "
      ]
     },
     "metadata": {},
     "output_type": "display_data"
    },
    {
     "data": {
      "text/html": [
       "<table>\n",
       "<tbody>\n",
       "\t<tr><td>-0.3995191</td><td>0.8080127 </td><td>-0.4330127</td></tr>\n",
       "\t<tr><td>-0.4330127</td><td>0.2500000 </td><td> 0.8660254</td></tr>\n",
       "\t<tr><td> 0.8080127</td><td>0.5334936 </td><td> 0.2500000</td></tr>\n",
       "</tbody>\n",
       "</table>\n"
      ],
      "text/latex": [
       "\\begin{tabular}{lll}\n",
       "\t -0.3995191 & 0.8080127  & -0.4330127\\\\\n",
       "\t -0.4330127 & 0.2500000  &  0.8660254\\\\\n",
       "\t  0.8080127 & 0.5334936  &  0.2500000\\\\\n",
       "\\end{tabular}\n"
      ],
      "text/markdown": [
       "\n",
       "| -0.3995191 | 0.8080127  | -0.4330127 | \n",
       "| -0.4330127 | 0.2500000  |  0.8660254 | \n",
       "|  0.8080127 | 0.5334936  |  0.2500000 | \n",
       "\n",
       "\n"
      ],
      "text/plain": [
       "     [,1]       [,2]      [,3]      \n",
       "[1,] -0.3995191 0.8080127 -0.4330127\n",
       "[2,] -0.4330127 0.2500000  0.8660254\n",
       "[3,]  0.8080127 0.5334936  0.2500000"
      ]
     },
     "metadata": {},
     "output_type": "display_data"
    },
    {
     "data": {
      "text/html": [
       "<table>\n",
       "<tbody>\n",
       "\t<tr><td>-0.3995191</td><td>-0.4330127</td><td>0.8080127 </td></tr>\n",
       "\t<tr><td> 0.8080127</td><td> 0.2500000</td><td>0.5334936 </td></tr>\n",
       "\t<tr><td>-0.4330127</td><td> 0.8660254</td><td>0.2500000 </td></tr>\n",
       "</tbody>\n",
       "</table>\n"
      ],
      "text/latex": [
       "\\begin{tabular}{lll}\n",
       "\t -0.3995191 & -0.4330127 & 0.8080127 \\\\\n",
       "\t  0.8080127 &  0.2500000 & 0.5334936 \\\\\n",
       "\t -0.4330127 &  0.8660254 & 0.2500000 \\\\\n",
       "\\end{tabular}\n"
      ],
      "text/markdown": [
       "\n",
       "| -0.3995191 | -0.4330127 | 0.8080127  | \n",
       "|  0.8080127 |  0.2500000 | 0.5334936  | \n",
       "| -0.4330127 |  0.8660254 | 0.2500000  | \n",
       "\n",
       "\n"
      ],
      "text/plain": [
       "     [,1]       [,2]       [,3]     \n",
       "[1,] -0.3995191 -0.4330127 0.8080127\n",
       "[2,]  0.8080127  0.2500000 0.5334936\n",
       "[3,] -0.4330127  0.8660254 0.2500000"
      ]
     },
     "metadata": {},
     "output_type": "display_data"
    },
    {
     "data": {
      "text/html": [
       "<table>\n",
       "<tbody>\n",
       "\t<tr><td> 2.0278845</td><td>-0.5479968</td><td>0.2145633 </td></tr>\n",
       "\t<tr><td>-0.5479968</td><td> 2.5625000</td><td>0.5663861 </td></tr>\n",
       "\t<tr><td> 0.2145633</td><td> 0.5663861</td><td>1.4096155 </td></tr>\n",
       "</tbody>\n",
       "</table>\n"
      ],
      "text/latex": [
       "\\begin{tabular}{lll}\n",
       "\t  2.0278845 & -0.5479968 & 0.2145633 \\\\\n",
       "\t -0.5479968 &  2.5625000 & 0.5663861 \\\\\n",
       "\t  0.2145633 &  0.5663861 & 1.4096155 \\\\\n",
       "\\end{tabular}\n"
      ],
      "text/markdown": [
       "\n",
       "|  2.0278845 | -0.5479968 | 0.2145633  | \n",
       "| -0.5479968 |  2.5625000 | 0.5663861  | \n",
       "|  0.2145633 |  0.5663861 | 1.4096155  | \n",
       "\n",
       "\n"
      ],
      "text/plain": [
       "     [,1]       [,2]       [,3]     \n",
       "[1,]  2.0278845 -0.5479968 0.2145633\n",
       "[2,] -0.5479968  2.5625000 0.5663861\n",
       "[3,]  0.2145633  0.5663861 1.4096155"
      ]
     },
     "metadata": {},
     "output_type": "display_data"
    },
    {
     "data": {
      "text/plain": [
       "eigen() decomposition\n",
       "$values\n",
       "[1] 3 2 1\n",
       "\n",
       "$vectors\n",
       "           [,1]      [,2]       [,3]\n",
       "[1,]  0.4330127 0.8080127 -0.3995191\n",
       "[2,] -0.8660254 0.2500000 -0.4330127\n",
       "[3,] -0.2500000 0.5334936  0.8080127\n"
      ]
     },
     "metadata": {},
     "output_type": "display_data"
    }
   ],
   "source": [
    "#elements>0の対角行列Mを作成\n",
    "M <- matrix(c(1,0,0,0,2,0,0,0,3), 3, 3)\n",
    "M\n",
    "\n",
    "#回転行列Rを作成\n",
    "R <- matrix(c(cos(pi/3)%*%cos(pi/3)-sin(pi/3)%*%sin(pi/3)%*%sin(pi/3),-cos(pi/3)%*%sin(pi/3),sin(pi/3)%*%cos(pi/3)+sin(pi/3)%*%cos(pi/3)%*%sin(pi/3),cos(pi/3)%*%sin(pi/3)+sin(pi/3)%*%sin(pi/3)%*%cos(pi/3), cos(pi/3)%*%cos(pi/3), sin(pi/3)%*%sin(pi/3) - sin(pi/3)%*%cos(pi/3)%*%cos(pi/3),-cos(pi/3)%*%sin(pi/3), sin(pi/3), cos(pi/3)%*%cos(pi/3)),3,3)\n",
    "R\n",
    "\n",
    "#回転行列Rの逆行列を作成\n",
    "R.inverse <- solve(R)\n",
    "R.inverse\n",
    "\n",
    "#MをRとR.inverseでsandwichした行列Xを作成\n",
    "X <- R %*% M %*% R.inverse\n",
    "X\n",
    "\n",
    "#Xの固有値が正となることを確認\n",
    "#Mの固有値と等しい（Mの対角成分が固有値となるので全て正）\n",
    "eigen(X)"
   ]
  },
  {
   "cell_type": "code",
   "execution_count": null,
   "metadata": {},
   "outputs": [],
   "source": []
  }
 ],
 "metadata": {
  "kernelspec": {
   "display_name": "R",
   "language": "R",
   "name": "ir"
  },
  "language_info": {
   "codemirror_mode": "r",
   "file_extension": ".r",
   "mimetype": "text/x-r-source",
   "name": "R",
   "pygments_lexer": "r",
   "version": "3.4.2"
  }
 },
 "nbformat": 4,
 "nbformat_minor": 2
}
